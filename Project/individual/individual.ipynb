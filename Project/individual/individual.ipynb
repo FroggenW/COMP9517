{
 "cells": [
  {
   "cell_type": "code",
   "execution_count": 1,
   "metadata": {},
   "outputs": [],
   "source": [
    "# Author: Chang Wang\n",
    "# zID : z5196324\n",
    "# finished by 03/04/2020\n",
    "\n",
    "import cv2\n",
    "import os\n",
    "import numpy as np\n",
    "import sys\n",
    "from PIL import Image\n",
    "import matplotlib.pyplot as plt\n",
    "from skimage.feature import hog\n",
    "from sklearn.utils import shuffle\n",
    "from sklearn import svm\n",
    "from sklearn import preprocessing"
   ]
  },
  {
   "cell_type": "code",
   "execution_count": 2,
   "metadata": {},
   "outputs": [],
   "source": [
    "def read_files(train_dir, test_dir):\n",
    "    train_pos = []\n",
    "    for root, dirs, files in os.walk(train_dir):\n",
    "        for name in dirs:\n",
    "            if 'pos' in name:\n",
    "                new_path = os.path.join(train_dir, name)\n",
    "                for n_root, n_dirs, n_files in os.walk(new_path):\n",
    "                    for director in n_dirs:\n",
    "                        new_path_rank1 = os.path.join(new_path, director)\n",
    "                        for img_root, img_dirs, image in os.walk(new_path_rank1):\n",
    "                            for img in image:\n",
    "                                train_pos.append(os.path.join(new_path_rank1, img))\n",
    "    train_neg = []\n",
    "    for root, dirs, files in os.walk(train_dir):\n",
    "        for name in dirs:\n",
    "            if 'neg' in name:\n",
    "                new_path = os.path.join(train_dir, name)\n",
    "                for n_root, n_dirs, n_files in os.walk(new_path):\n",
    "                    for director in n_dirs:\n",
    "                        new_path_rank1 = os.path.join(new_path, director)\n",
    "                        for img_root, img_dirs, image in os.walk(new_path_rank1):\n",
    "                            for img in image:\n",
    "                                train_neg.append(os.path.join(new_path_rank1, img))\n",
    "    \n",
    "    test_pos = []\n",
    "    for root, dirs, files in os.walk(test_dir):\n",
    "        for name in dirs:\n",
    "            if 'pos' in name:\n",
    "                new_path = os.path.join(test_dir, name)\n",
    "                for n_root, n_dirs, n_files in os.walk(new_path):\n",
    "                    for director in n_dirs:\n",
    "                        new_path_rank1 = os.path.join(new_path, director)\n",
    "                        for img_root, img_dirs, image in os.walk(new_path_rank1):\n",
    "                            for img in image:\n",
    "                                test_pos.append(os.path.join(new_path_rank1, img))\n",
    "    \n",
    "    test_neg = []\n",
    "    for root, dirs, files in os.walk(test_dir):\n",
    "        for name in dirs:\n",
    "            if 'neg' in name:\n",
    "                new_path = os.path.join(test_dir, name)\n",
    "                for n_root, n_dirs, n_files in os.walk(new_path):\n",
    "                    for director in n_dirs:\n",
    "                        new_path_rank1 = os.path.join(new_path, director)\n",
    "                        for img_root, img_dirs, image in os.walk(new_path_rank1):\n",
    "                            for img in image:\n",
    "                                test_neg.append(os.path.join(new_path_rank1, img))\n",
    "    return train_pos, train_neg, test_pos, test_neg"
   ]
  },
  {
   "cell_type": "code",
   "execution_count": 3,
   "metadata": {},
   "outputs": [
    {
     "name": "stdout",
     "output_type": "stream",
     "text": [
      "22114\n",
      "50000\n",
      "3457\n",
      "6000\n"
     ]
    }
   ],
   "source": [
    "train_dir = 'Individual_Component/train'\n",
    "test_dir = 'Individual_Component/test'\n",
    "train_pos, train_neg, test_pos, test_neg = read_files(train_dir, test_dir)\n",
    "print(len(train_pos))\n",
    "print(len(train_neg))\n",
    "print(len(test_pos))\n",
    "print(len(test_neg))"
   ]
  },
  {
   "cell_type": "code",
   "execution_count": 4,
   "metadata": {},
   "outputs": [],
   "source": [
    "def get_hog(pos, neg):\n",
    "    feature_list = []\n",
    "    pos_neg = []\n",
    "    for files in pos:\n",
    "        img = cv2.imread(files)\n",
    "        gray = cv2.cvtColor(img, cv2.COLOR_BGR2GRAY)\n",
    "        features = hog(gray, orientations=9, pixels_per_cell=(8, 8), cells_per_block=(2, 2), block_norm=\"L2\", transform_sqrt=True, feature_vector=True)\n",
    "        feature_list.append(features)\n",
    "        pos_neg.append(1)\n",
    "    \n",
    "    for files in neg:\n",
    "        img = cv2.imread(files)\n",
    "        gray = cv2.cvtColor(img, cv2.COLOR_BGR2GRAY)    \n",
    "        features = hog(gray, orientations=9, pixels_per_cell=(8, 8), cells_per_block=(2, 2), block_norm=\"L2\", transform_sqrt=True, feature_vector=True)\n",
    "        feature_list.append(features)\n",
    "        pos_neg.append(0)\n",
    "\n",
    "    return feature_list, pos_neg"
   ]
  },
  {
   "cell_type": "code",
   "execution_count": 5,
   "metadata": {},
   "outputs": [],
   "source": [
    "train_x, train_y = get_hog(train_pos, train_neg)\n",
    "train_x = np.array(train_x)\n",
    "train_y = np.array(train_y)"
   ]
  },
  {
   "cell_type": "code",
   "execution_count": 6,
   "metadata": {},
   "outputs": [
    {
     "name": "stdout",
     "output_type": "stream",
     "text": [
      "72114\n"
     ]
    }
   ],
   "source": [
    "print(len(train_x))"
   ]
  },
  {
   "cell_type": "code",
   "execution_count": 7,
   "metadata": {},
   "outputs": [
    {
     "name": "stdout",
     "output_type": "stream",
     "text": [
      "[[3.22147723e-01 8.71202667e-03 1.10169074e-01 ... 2.51670329e-02\n",
      "  1.35086628e-02 6.94822921e-03]\n",
      " [3.54135468e-01 1.23184946e-01 1.17035690e-02 ... 8.16481914e-04\n",
      "  6.21814092e-04 0.00000000e+00]\n",
      " [2.92106717e-01 1.71136667e-01 3.73075729e-02 ... 1.83252630e-02\n",
      "  2.69235980e-02 4.27801786e-02]\n",
      " ...\n",
      " [2.16169298e-01 2.09038914e-01 3.16005033e-01 ... 2.57505099e-02\n",
      "  2.05535501e-02 2.53031143e-02]\n",
      " [6.88368577e-01 8.80473284e-02 0.00000000e+00 ... 0.00000000e+00\n",
      "  0.00000000e+00 0.00000000e+00]\n",
      " [2.54226611e-01 7.15026502e-02 5.57593946e-02 ... 0.00000000e+00\n",
      "  3.60551262e-02 0.00000000e+00]]\n"
     ]
    }
   ],
   "source": [
    "print(train_x)"
   ]
  },
  {
   "cell_type": "code",
   "execution_count": 8,
   "metadata": {},
   "outputs": [],
   "source": [
    "test_x, test_y = get_hog(test_pos, test_neg)\n",
    "test_x = np.array(test_x)\n",
    "test_y = np.array(test_y)"
   ]
  },
  {
   "cell_type": "code",
   "execution_count": 10,
   "metadata": {},
   "outputs": [
    {
     "name": "stdout",
     "output_type": "stream",
     "text": [
      "9457\n"
     ]
    }
   ],
   "source": [
    "print(len(test_x))"
   ]
  },
  {
   "cell_type": "code",
   "execution_count": 12,
   "metadata": {},
   "outputs": [
    {
     "name": "stdout",
     "output_type": "stream",
     "text": [
      "[[0.00412331 0.00277296 0.00337456 ... 0.00372139 0.00497285 0.0124601 ]\n",
      " [0.27336737 0.02613731 0.01265112 ... 0.00335531 0.00231895 0.00314291]\n",
      " [0.52275843 0.         0.         ... 0.22912844 0.2279215  0.        ]\n",
      " ...\n",
      " [0.08909749 0.0008518  0.         ... 0.03488042 0.02084902 0.00284079]\n",
      " [0.11874946 0.119612   0.06663214 ... 0.12215104 0.13868503 0.11443041]\n",
      " [0.15213638 0.05227432 0.16471779 ... 0.         0.         0.        ]]\n"
     ]
    }
   ],
   "source": [
    "print(test_x)"
   ]
  },
  {
   "cell_type": "code",
   "execution_count": 13,
   "metadata": {},
   "outputs": [
    {
     "name": "stdout",
     "output_type": "stream",
     "text": [
      "[LibLinear]"
     ]
    },
    {
     "data": {
      "text/plain": [
       "LinearSVC(C=0.01, class_weight='balanced', dual=True, fit_intercept=True,\n",
       "          intercept_scaling=1, loss='squared_hinge', max_iter=1000,\n",
       "          multi_class='ovr', penalty='l2', random_state=None, tol=0.0001,\n",
       "          verbose=1)"
      ]
     },
     "execution_count": 13,
     "metadata": {},
     "output_type": "execute_result"
    }
   ],
   "source": [
    "clf_svm = svm.LinearSVC(C=0.01, max_iter=1000, class_weight='balanced', verbose=1)\n",
    "clf_svm.fit(train_x, train_y)"
   ]
  },
  {
   "cell_type": "code",
   "execution_count": 14,
   "metadata": {},
   "outputs": [],
   "source": [
    "predict_result = clf_svm.predict(test_x)"
   ]
  },
  {
   "cell_type": "code",
   "execution_count": 15,
   "metadata": {},
   "outputs": [],
   "source": [
    "from sklearn.metrics import recall_score, precision_score, f1_score, accuracy_score"
   ]
  },
  {
   "cell_type": "code",
   "execution_count": 16,
   "metadata": {},
   "outputs": [
    {
     "name": "stdout",
     "output_type": "stream",
     "text": [
      "0.9846687879664449\n"
     ]
    }
   ],
   "source": [
    "print(recall_score(test_y, predict_result))"
   ]
  },
  {
   "cell_type": "code",
   "execution_count": 17,
   "metadata": {},
   "outputs": [
    {
     "name": "stdout",
     "output_type": "stream",
     "text": [
      "0.9773184036749928\n"
     ]
    }
   ],
   "source": [
    "print(precision_score(test_y, predict_result))"
   ]
  },
  {
   "cell_type": "code",
   "execution_count": 18,
   "metadata": {},
   "outputs": [
    {
     "name": "stdout",
     "output_type": "stream",
     "text": [
      "0.9809798270893372\n"
     ]
    }
   ],
   "source": [
    "print(f1_score(test_y, predict_result))"
   ]
  },
  {
   "cell_type": "code",
   "execution_count": 19,
   "metadata": {},
   "outputs": [
    {
     "name": "stdout",
     "output_type": "stream",
     "text": [
      "0.9860420852278735\n"
     ]
    }
   ],
   "source": [
    "print(accuracy_score(test_y, predict_result))"
   ]
  },
  {
   "cell_type": "code",
   "execution_count": 20,
   "metadata": {},
   "outputs": [],
   "source": [
    "test_path = 'Individual_Component/train/train_positive_A/00000000/item_00000000.pnm'"
   ]
  },
  {
   "cell_type": "code",
   "execution_count": 21,
   "metadata": {},
   "outputs": [],
   "source": [
    "img = cv2.imread(test_path)"
   ]
  },
  {
   "cell_type": "code",
   "execution_count": 22,
   "metadata": {},
   "outputs": [
    {
     "data": {
      "text/plain": [
       "<matplotlib.image.AxesImage at 0x24ca171d978>"
      ]
     },
     "execution_count": 22,
     "metadata": {},
     "output_type": "execute_result"
    },
    {
     "data": {
      "image/png": "[encoded data removed]",
      "text/plain": [
       "<Figure size 432x288 with 1 Axes>"
      ]
     },
     "metadata": {
      "needs_background": "light"
     },
     "output_type": "display_data"
    }
   ],
   "source": [
    "gray = cv2.cvtColor(img, cv2.COLOR_BGR2GRAY)\n",
    "plt.imshow(gray,'gray')"
   ]
  },
  {
   "cell_type": "code",
   "execution_count": 23,
   "metadata": {},
   "outputs": [
    {
     "data": {
      "text/plain": [
       "<matplotlib.image.AxesImage at 0x24ca86ea080>"
      ]
     },
     "execution_count": 23,
     "metadata": {},
     "output_type": "execute_result"
    },
    {
     "data": {
      "image/png": "[encoded data removed]",
      "text/plain": [
       "<Figure size 432x288 with 1 Axes>"
      ]
     },
     "metadata": {
      "needs_background": "light"
     },
     "output_type": "display_data"
    }
   ],
   "source": [
    "gamma_gray = np.sqrt(gray/float(np.max(gray)))\n",
    "plt.imshow(gamma_gray, 'gray')"
   ]
  },
  {
   "cell_type": "code",
   "execution_count": 24,
   "metadata": {},
   "outputs": [
    {
     "name": "stdout",
     "output_type": "stream",
     "text": [
      "(80, 64) (80, 64)\n"
     ]
    },
    {
     "data": {
      "image/png": "[encoded data removed]",
      "text/plain": [
       "<Figure size 432x288 with 1 Axes>"
      ]
     },
     "metadata": {
      "needs_background": "light"
     },
     "output_type": "display_data"
    }
   ],
   "source": [
    "gradient_values_x = cv2.Sobel(gamma_gray, cv2.CV_64F, 1, 0, ksize=3)\n",
    "gradient_values_y = cv2.Sobel(gamma_gray, cv2.CV_64F, 0, 1)\n",
    "gradient_magnitude = cv2.addWeighted(gradient_values_x, 0.5, gradient_values_y, 0.5, 0)\n",
    "plt.imshow(gradient_magnitude)\n",
    "gradient_angle = cv2.phase(gradient_values_x, gradient_values_y, angleInDegrees=True)\n",
    "print(gradient_magnitude.shape, gradient_angle.shape)"
   ]
  },
  {
   "cell_type": "code",
   "execution_count": 25,
   "metadata": {},
   "outputs": [],
   "source": [
    "height, width = gray.shape\n",
    "cell_size = 8\n",
    "bin_size = 8\n",
    "angle_unit = 360 / bin_size\n",
    "gradient_magnitude = abs(gradient_magnitude)\n",
    "cell_gradient_vector = np.zeros((int(height / cell_size), int(width / cell_size), bin_size))\n",
    "\n",
    "def cell_gradient(cell_magnitude, cell_angle):\n",
    "    orientation_centers = [0] * bin_size\n",
    "    for k in range(cell_magnitude.shape[0]):\n",
    "        for l in range(cell_magnitude.shape[1]):\n",
    "            gradient_strength = cell_magnitude[k][l]\n",
    "            gradient_angle = cell_angle[k][l]\n",
    "            min_angle = int(gradient_angle / angle_unit)%8\n",
    "            max_angle = (min_angle + 1) % bin_size\n",
    "            mod = gradient_angle % angle_unit\n",
    "            orientation_centers[min_angle] += (gradient_strength * (1 - (mod / angle_unit)))\n",
    "            orientation_centers[max_angle] += (gradient_strength * (mod / angle_unit))\n",
    "    return orientation_centers\n",
    "\n",
    "\n",
    "for i in range(cell_gradient_vector.shape[0]):\n",
    "    for j in range(cell_gradient_vector.shape[1]):\n",
    "        cell_magnitude = gradient_magnitude[i * cell_size:(i + 1) * cell_size,\n",
    "                         j * cell_size:(j + 1) * cell_size]\n",
    "        cell_angle = gradient_angle[i * cell_size:(i + 1) * cell_size,\n",
    "                     j * cell_size:(j + 1) * cell_size]\n",
    "        cell_gradient_vector[i][j] = cell_gradient(cell_magnitude, cell_angle)"
   ]
  },
  {
   "cell_type": "code",
   "execution_count": 26,
   "metadata": {},
   "outputs": [
    {
     "data": {
      "image/png": "[encoded data removed]",
      "text/plain": [
       "<Figure size 432x288 with 1 Axes>"
      ]
     },
     "metadata": {
      "needs_background": "light"
     },
     "output_type": "display_data"
    }
   ],
   "source": [
    "import math\n",
    "hog_image= np.zeros([height, width])\n",
    "cell_gradient = cell_gradient_vector\n",
    "cell_width = cell_size / 2\n",
    "max_mag = np.array(cell_gradient).max()\n",
    "for x in range(cell_gradient.shape[0]):\n",
    "    for y in range(cell_gradient.shape[1]):\n",
    "        cell_grad = cell_gradient[x][y]\n",
    "        cell_grad /= max_mag\n",
    "        angle = 0\n",
    "        angle_gap = angle_unit\n",
    "        for magnitude in cell_grad:\n",
    "            angle_radian = math.radians(angle)\n",
    "            x1 = int(x * cell_size + magnitude * cell_width * math.cos(angle_radian))\n",
    "            y1 = int(y * cell_size + magnitude * cell_width * math.sin(angle_radian))\n",
    "            x2 = int(x * cell_size - magnitude * cell_width * math.cos(angle_radian))\n",
    "            y2 = int(y * cell_size - magnitude * cell_width * math.sin(angle_radian))\n",
    "            cv2.line(hog_image, (y1, x1), (y2, x2), int(255 * math.sqrt(magnitude)))\n",
    "            angle += angle_gap\n",
    "\n",
    "plt.imshow(hog_image, cmap=plt.cm.gray)\n",
    "plt.show()"
   ]
  },
  {
   "cell_type": "code",
   "execution_count": 27,
   "metadata": {},
   "outputs": [
    {
     "name": "stdout",
     "output_type": "stream",
     "text": [
      "(63, 32)\n"
     ]
    }
   ],
   "source": [
    "hog_vector = []\n",
    "for i in range(cell_gradient_vector.shape[0] - 1):\n",
    "    for j in range(cell_gradient_vector.shape[1] - 1):\n",
    "        block_vector = []\n",
    "        block_vector.extend(cell_gradient_vector[i][j])\n",
    "        block_vector.extend(cell_gradient_vector[i][j + 1])\n",
    "        block_vector.extend(cell_gradient_vector[i + 1][j])\n",
    "        block_vector.extend(cell_gradient_vector[i + 1][j + 1])\n",
    "        mag = lambda vector: math.sqrt(sum(i ** 2 for i in vector))\n",
    "        magnitude = mag(block_vector)\n",
    "        if magnitude != 0:\n",
    "            normalize = lambda block_vector, magnitude: [element / magnitude for element in block_vector]\n",
    "            block_vector = normalize(block_vector, magnitude)\n",
    "        hog_vector.append(block_vector)\n",
    "\n",
    "print(np.array(hog_vector).shape)"
   ]
  },
  {
   "cell_type": "code",
   "execution_count": null,
   "metadata": {},
   "outputs": [],
   "source": []
  }
 ],
 "metadata": {
  "kernelspec": {
   "display_name": "Python 3",
   "language": "python",
   "name": "python3"
  },
  "language_info": {
   "codemirror_mode": {
    "name": "ipython",
    "version": 3
   },
   "file_extension": ".py",
   "mimetype": "text/x-python",
   "name": "python",
   "nbconvert_exporter": "python",
   "pygments_lexer": "ipython3",
   "version": "3.6.8"
  }
 },
 "nbformat": 4,
 "nbformat_minor": 4
}
